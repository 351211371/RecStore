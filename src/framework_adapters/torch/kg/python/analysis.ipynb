{
 "cells": [
  {
   "cell_type": "code",
   "execution_count": 3,
   "metadata": {},
   "outputs": [
    {
     "name": "stderr",
     "output_type": "stream",
     "text": [
      "<ipython-input-3-287819f2dada>:12: DeprecationWarning: `set_matplotlib_formats` is deprecated since IPython 7.23, directly use `matplotlib_inline.backend_inline.set_matplotlib_formats()`\n",
      "  set_matplotlib_formats('svg')\n"
     ]
    }
   ],
   "source": [
    "import glob\n",
    "import re\n",
    "\n",
    "import numpy as np\n",
    "import pandas as pd\n",
    "import tqdm\n",
    "import itertools\n",
    "\n",
    "from matplotlib import pyplot as plt\n",
    "import seaborn as sns\n",
    "from IPython.display import set_matplotlib_formats\n",
    "set_matplotlib_formats('svg')\n",
    "# pd.options.display.max_columns = 2000"
   ]
  },
  {
   "cell_type": "code",
   "execution_count": 4,
   "metadata": {},
   "outputs": [],
   "source": [
    "class IteratorLogs():\n",
    "\n",
    "    def __init__(self, logfile) -> None:\n",
    "        with open(logfile) as f:\n",
    "            self.lines = f.readlines()\n",
    "        self.index = 0\n",
    "\n",
    "    def next(self):\n",
    "        temp = self.next_line()\n",
    "        # filter GLOG\n",
    "        while temp.find('.h:') != -1 or temp.find('.cc:') != -1:\n",
    "            temp = self.next_line()\n",
    "        # print(self.index, temp)\n",
    "        return temp\n",
    "\n",
    "    def next_line(self):\n",
    "        if self.index == len(self.lines):\n",
    "            raise StopIteration()\n",
    "        temp = self.lines[self.index]\n",
    "        self.index += 1\n",
    "        return temp\n",
    "\n",
    "\n",
    "# run_log_file to [{ts: ts1, k1: v, k2: v}, (ts2, {})]\n",
    "def parse_log(logfile, isclient=False):\n",
    "    iter_log = IteratorLogs(logfile)\n",
    "\n",
    "    results = []\n",
    "    dic = dict()\n",
    "\n",
    "    i = 0\n",
    "    while True:\n",
    "        try:\n",
    "            each_line = iter_log.next()\n",
    "            each_line = each_line.strip()\n",
    "            \n",
    "            r = re.search(r'\\[proc (\\d)\\] 8000 steps, sample: (.*), forward: (.*), backward: (.*), update: (.*)', each_line)\n",
    "            if r:\n",
    "                proc = int(r[1])\n",
    "                dic[f\"{proc}_sample\"] = float(r[2])\n",
    "                dic[f\"{proc}_forward\"] = float(r[3])\n",
    "                dic[f\"{proc}_backward\"] = float(r[4])\n",
    "                dic[f\"{proc}_update\"] = float(r[5])\n",
    "                continue\n",
    "            \n",
    "            results.append(dic)\n",
    "            ts = None\n",
    "            dic = dict()\n",
    "        except StopIteration:\n",
    "            # if 'ts' in dic.keys():\n",
    "            #     results.append(dic)\n",
    "            break\n",
    "\n",
    "    return results"
   ]
  },
  {
   "cell_type": "code",
   "execution_count": null,
   "metadata": {},
   "outputs": [],
   "source": []
  }
 ],
 "metadata": {
  "kernelspec": {
   "display_name": "base",
   "language": "python",
   "name": "python3"
  },
  "language_info": {
   "codemirror_mode": {
    "name": "ipython",
    "version": 3
   },
   "file_extension": ".py",
   "mimetype": "text/x-python",
   "name": "python",
   "nbconvert_exporter": "python",
   "pygments_lexer": "ipython3",
   "version": "3.8.13"
  },
  "orig_nbformat": 4
 },
 "nbformat": 4,
 "nbformat_minor": 2
}
