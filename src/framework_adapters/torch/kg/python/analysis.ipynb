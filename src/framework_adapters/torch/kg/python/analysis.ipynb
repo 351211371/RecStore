{
 "cells": [
  {
   "cell_type": "code",
   "execution_count": 14,
   "metadata": {},
   "outputs": [
    {
     "name": "stderr",
     "output_type": "stream",
     "text": [
      "<ipython-input-14-d205f42a1420>:12: DeprecationWarning: `set_matplotlib_formats` is deprecated since IPython 7.23, directly use `matplotlib_inline.backend_inline.set_matplotlib_formats()`\n",
      "  set_matplotlib_formats('svg')\n"
     ]
    }
   ],
   "source": [
    "import glob\n",
    "import re\n",
    "\n",
    "import numpy as np\n",
    "import pandas as pd\n",
    "import tqdm\n",
    "import itertools\n",
    "from collections import defaultdict\n",
    "from matplotlib import pyplot as plt\n",
    "import seaborn as sns\n",
    "from IPython.display import set_matplotlib_formats\n",
    "set_matplotlib_formats('svg')\n",
    "# pd.options.display.max_columns = 2000"
   ]
  },
  {
   "cell_type": "code",
   "execution_count": 25,
   "metadata": {},
   "outputs": [],
   "source": [
    "class IteratorLogs():\n",
    "\n",
    "    def __init__(self, logfile) -> None:\n",
    "        with open(logfile) as f:\n",
    "            self.lines = f.readlines()\n",
    "        self.index = 0\n",
    "\n",
    "    def next(self):\n",
    "        temp = self.next_line()\n",
    "        # filter GLOG\n",
    "        while temp.find('.h:') != -1 or temp.find('.cc:') != -1:\n",
    "            temp = self.next_line()\n",
    "        # print(self.index, temp)\n",
    "        return temp\n",
    "\n",
    "    def next_line(self):\n",
    "        if self.index == len(self.lines):\n",
    "            raise StopIteration()\n",
    "        temp = self.lines[self.index]\n",
    "        self.index += 1\n",
    "        return temp\n",
    "\n",
    "\n",
    "# run_log_file to [{ts: ts1, k1: v, k2: v}, (ts2, {})]\n",
    "def parse_log(logfile, isclient=False):\n",
    "    iter_log = IteratorLogs(logfile)\n",
    "\n",
    "    dic = defaultdict(lambda: [])\n",
    "    i = 0\n",
    "    while True:\n",
    "        try:\n",
    "            each_line = iter_log.next()\n",
    "            each_line = each_line.strip()\n",
    "            r = re.search(r'\\[proc (\\d)\\] (\\d+) steps, (total:.*$)', each_line)\n",
    "            if r:\n",
    "                proc = int(r[1])\n",
    "                step = int(r[2])\n",
    "                items = r[3].split(\", \")\n",
    "                items = [(each.split(\": \")[0], each.split(\": \")[1]) for each in items]\n",
    "                for each_k, each_v in items:\n",
    "                    dic[f'proc{proc}_{each_k}'].append(float(each_v))\n",
    "                continue\n",
    "            \n",
    "        except StopIteration:\n",
    "            # if 'ts' in dic.keys():\n",
    "            #     results.append(dic)\n",
    "            break\n",
    "    \n",
    "    for each_k, each_v in list(dic.items()):\n",
    "        dic[f\"{each_k}_jicha\"] = max(each_v[-3:]) - min(each_v[-3:])\n",
    "        dic[each_k] = np.mean(each_v[-3:])\n",
    "\n",
    "    return dic"
   ]
  },
  {
   "cell_type": "code",
   "execution_count": 26,
   "metadata": {},
   "outputs": [
    {
     "data": {
      "text/plain": [
       "defaultdict(<function __main__.parse_log.<locals>.<lambda>()>,\n",
       "            {'proc0_total': 36.25633333333334,\n",
       "             'proc0_sample': 1.529,\n",
       "             'proc0_forward': 7.997,\n",
       "             'proc0_backward': 23.468333333333334,\n",
       "             'proc0_update': 3.254,\n",
       "             'proc0_total_jicha': 0.39800000000000324,\n",
       "             'proc0_sample_jicha': 0.10899999999999999,\n",
       "             'proc0_forward_jicha': 0.09700000000000042,\n",
       "             'proc0_backward_jicha': 0.4059999999999988,\n",
       "             'proc0_update_jicha': 0.07899999999999974})"
      ]
     },
     "execution_count": 26,
     "metadata": {},
     "output_type": "execute_result"
    }
   ],
   "source": [
    "parse_log(\"benchmark/log/exp0-single-3090/run_0/log\")"
   ]
  },
  {
   "cell_type": "code",
   "execution_count": null,
   "metadata": {},
   "outputs": [],
   "source": []
  },
  {
   "cell_type": "code",
   "execution_count": null,
   "metadata": {},
   "outputs": [],
   "source": []
  }
 ],
 "metadata": {
  "kernelspec": {
   "display_name": "base",
   "language": "python",
   "name": "python3"
  },
  "language_info": {
   "codemirror_mode": {
    "name": "ipython",
    "version": 3
   },
   "file_extension": ".py",
   "mimetype": "text/x-python",
   "name": "python",
   "nbconvert_exporter": "python",
   "pygments_lexer": "ipython3",
   "version": "3.8.13"
  },
  "orig_nbformat": 4
 },
 "nbformat": 4,
 "nbformat_minor": 2
}
